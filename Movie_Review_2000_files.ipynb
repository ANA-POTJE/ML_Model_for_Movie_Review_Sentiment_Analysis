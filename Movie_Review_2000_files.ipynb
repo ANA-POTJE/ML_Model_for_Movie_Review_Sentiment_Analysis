{
 "cells": [
  {
   "cell_type": "code",
   "execution_count": 4,
   "metadata": {},
   "outputs": [],
   "source": [
    "### Step 1: Loading the data\n",
    "###---------------------------\n",
    "\n",
    "import os\n",
    "\n",
    "def init_dict(a_dir):\n",
    "    a_dict = {}\n",
    "    file_list = os.listdir(a_dir)\n",
    "    for a_file in file_list:\n",
    "        f = open(a_dir + a_file, 'r')\n",
    "        a_dict[a_file] = f.read()\n",
    "        f.close()\n",
    "    return a_dict\n",
    "\n",
    "def print_dict(a_dict, maxn=5):\n",
    "    for key in sorted(a_dict.keys()):\n",
    "        print (key, \":\\n\" , a_dict.get(key))\n",
    "\n",
    "pos = init_dict(\"data/review_polarity_tar/txt_sentoken/pos/\")\n",
    "neg = init_dict(\"data/review_polarity_tar/txt_sentoken/neg/\")\n",
    "#print_dict(pos)\n",
    "#pos.items()"
   ]
  },
  {
   "cell_type": "code",
   "execution_count": 5,
   "metadata": {},
   "outputs": [
    {
     "data": {
      "text/plain": [
       "list"
      ]
     },
     "execution_count": 5,
     "metadata": {},
     "output_type": "execute_result"
    }
   ],
   "source": [
    "all_reviews = [(text, \"pos\") for (review, text) in pos.items()]\n",
    "all_reviews += [(text, \"neg\") for (review, text) in neg.items()]\n",
    "#all_reviews\n",
    "#print(len(all_reviews)) #### 1000 pos and 1000 neg!!!!!!!!!!!\n",
    "type(all_reviews)\n",
    "#all_reviews"
   ]
  },
  {
   "cell_type": "code",
   "execution_count": 6,
   "metadata": {},
   "outputs": [
    {
     "name": "stdout",
     "output_type": "stream",
     "text": [
      "2000\n"
     ]
    }
   ],
   "source": [
    "print(len(all_reviews)) #### 2000 "
   ]
  },
  {
   "cell_type": "code",
   "execution_count": 7,
   "metadata": {},
   "outputs": [],
   "source": [
    "#### TRAIN TEST SPLIT\n",
    "from sklearn.model_selection import train_test_split\n",
    "train_set, test_set = train_test_split(all_reviews, test_size=0.2)"
   ]
  },
  {
   "cell_type": "code",
   "execution_count": 10,
   "metadata": {},
   "outputs": [],
   "source": [
    "### Step 2: Preprocessing the data\n",
    "###--------------------------------\n",
    "\n",
    "from spacy.lang.en.stop_words import STOP_WORDS as stopwords\n",
    "import spacy\n",
    "import string\n",
    "punctuations = string.punctuation\n",
    "nlp = spacy.load('en_core_web_sm')\n",
    "\n",
    "# Modify the code to return only words of certain PoS\n",
    "def spacy_tokenizer(text):\n",
    "    tokens = nlp(text)\n",
    "    tokens = [tok.lemma_.lower().strip() if tok.lemma_ != \"-PRON-\" else tok.lower_ for tok in tokens]\n",
    "    tokens = [tok for tok in tokens if (tok not in stopwords and tok not in punctuations)]\n",
    "    return (' '.join(tokens))"
   ]
  },
  {
   "cell_type": "code",
   "execution_count": 9,
   "metadata": {},
   "outputs": [],
   "source": [
    "train_targets = []\n",
    "test_targets = []\n",
    "\n",
    "train_data = [spacy_tokenizer(text) for (text, _) in train_set]\n",
    "test_data  = [spacy_tokenizer(text) for (text, _) in test_set]"
   ]
  },
  {
   "cell_type": "code",
   "execution_count": 11,
   "metadata": {},
   "outputs": [],
   "source": [
    "for (text, label) in train_set:\n",
    "    if label==\"pos\": train_targets.append(1)\n",
    "    else: train_targets.append(0)\n",
    "\n",
    "for (text, label) in test_set:\n",
    "    if label==\"pos\": test_targets.append(1)\n",
    "    else: test_targets.append(0)"
   ]
  },
  {
   "cell_type": "code",
   "execution_count": 12,
   "metadata": {},
   "outputs": [],
   "source": [
    "### Step 3: Extracting the features &\n",
    "### Step 4: Training a classifier\n",
    "###---------------------------------\n",
    "from sklearn.feature_extraction.text import CountVectorizer\n",
    "from sklearn.feature_extraction.text import TfidfTransformer\n",
    "from sklearn.naive_bayes import MultinomialNB\n",
    "\n",
    "from sklearn.pipeline import Pipeline\n",
    "text_clf = Pipeline([('vect', CountVectorizer()),\n",
    "                     ('tfidf', TfidfTransformer()),\n",
    "                     ('clf', MultinomialNB())\n",
    "                    ])\n",
    "\n",
    "text_clf.fit(train_data, train_targets)\n",
    "predicted = text_clf.predict(test_data)"
   ]
  },
  {
   "cell_type": "code",
   "execution_count": 13,
   "metadata": {},
   "outputs": [
    {
     "name": "stdout",
     "output_type": "stream",
     "text": [
      "reviewer ignorant hand responsible deliver original version abyss 1989 medd => pred: 1 <+> truth: 1\n",
      "surprise know joel ethan coen bring unabated lunacy movie screen raise ariz => pred: 1 <+> truth: 1\n",
      "brother 's favorite movie h b halicki 's 1974 cult flick second good produc => pred: 0 <+> truth: 0\n",
      "follow review encompass version dune dune theatrical version 1984 runtime 1 => pred: 0 <+> truth: 0\n",
      "bad mimic definitly scar mimic continue frightening hollywood trend foreign => pred: 0 <+> truth: 0\n",
      "sadly like movie year good bad omega code opening credit good feeling bad g => pred: 0 <+> truth: 0\n",
      "oh behave felicity shagwell shagadellic babe horny female fembot breast req => pred: 0 <+> truth: 1\n",
      "plot bunch kid haunt house play parody horror non horror movie oh yeah ghos => pred: 0 <+> truth: 0\n",
      "disillusioned try find spice life richard leonardo dicaprio set thailand me => pred: 0 <+> truth: 0\n",
      "movie deep religious spiritual undertone surprising find messenger story jo => pred: 1 <+> truth: 0\n"
     ]
    }
   ],
   "source": [
    "# now you can look at the result and compare with the ground truth\n",
    "for (text, pred, truth) in list(zip(test_data, predicted, test_targets))[:10]:\n",
    "    print(\"{} => pred: {} <+> truth: {}\".format(text[:75], pred, truth))"
   ]
  },
  {
   "cell_type": "code",
   "execution_count": 14,
   "metadata": {},
   "outputs": [
    {
     "name": "stdout",
     "output_type": "stream",
     "text": [
      "[[171  19]\n",
      " [ 71 139]]\n",
      "0.775\n"
     ]
    }
   ],
   "source": [
    "### Step 5: Evaluating the classifier\n",
    "###---------------------------------\n",
    "from sklearn.metrics import accuracy_score\n",
    "from sklearn.metrics import confusion_matrix\n",
    "\n",
    "print(confusion_matrix(test_targets, predicted))\n",
    "print(accuracy_score(test_targets, predicted))"
   ]
  },
  {
   "cell_type": "code",
   "execution_count": 15,
   "metadata": {},
   "outputs": [
    {
     "name": "stdout",
     "output_type": "stream",
     "text": [
      "              precision    recall  f1-score   support\n",
      "\n",
      "           0       0.71      0.90      0.79       190\n",
      "           1       0.88      0.66      0.76       210\n",
      "\n",
      "    accuracy                           0.78       400\n",
      "   macro avg       0.79      0.78      0.77       400\n",
      "weighted avg       0.80      0.78      0.77       400\n",
      "\n"
     ]
    }
   ],
   "source": [
    "from sklearn.metrics import classification_report\n",
    "print(classification_report(test_targets, predicted))"
   ]
  },
  {
   "cell_type": "code",
   "execution_count": 16,
   "metadata": {},
   "outputs": [
    {
     "name": "stdout",
     "output_type": "stream",
     "text": [
      "0.8275\n",
      "[[166  24]\n",
      " [ 45 165]]\n",
      "              precision    recall  f1-score   support\n",
      "\n",
      "           0       0.79      0.87      0.83       190\n",
      "           1       0.87      0.79      0.83       210\n",
      "\n",
      "    accuracy                           0.83       400\n",
      "   macro avg       0.83      0.83      0.83       400\n",
      "weighted avg       0.83      0.83      0.83       400\n",
      "\n"
     ]
    }
   ],
   "source": [
    "#### Linear Support Vector Classification   \n",
    "from sklearn.svm import LinearSVC\n",
    "\n",
    "text_clf = Pipeline([('vect', CountVectorizer()),\n",
    "                     ('tfidf', TfidfTransformer()),\n",
    "                     ('clf', LinearSVC())])\n",
    "\n",
    "# Train the classifier and predict\n",
    "text_clf.fit(train_data, train_targets)  \n",
    "predicted = text_clf.predict(test_data)\n",
    "\n",
    "# Evaluate the performance\n",
    "print(accuracy_score(test_targets, predicted))\n",
    "print(confusion_matrix(test_targets, predicted))\n",
    "print(classification_report(test_targets, predicted))"
   ]
  },
  {
   "cell_type": "code",
   "execution_count": 17,
   "metadata": {},
   "outputs": [
    {
     "name": "stdout",
     "output_type": "stream",
     "text": [
      "0.8175\n",
      "[[161  29]\n",
      " [ 44 166]]\n",
      "              precision    recall  f1-score   support\n",
      "\n",
      "           0       0.79      0.85      0.82       190\n",
      "           1       0.85      0.79      0.82       210\n",
      "\n",
      "    accuracy                           0.82       400\n",
      "   macro avg       0.82      0.82      0.82       400\n",
      "weighted avg       0.82      0.82      0.82       400\n",
      "\n"
     ]
    }
   ],
   "source": [
    "####  linear classifiers with Stochastic Gradient Descent training. \n",
    "\n",
    "from sklearn.linear_model import SGDClassifier\n",
    "\n",
    "# Initialise a pipeline with a classifier of your choice\n",
    "text_clf = Pipeline([('vect', CountVectorizer()),\n",
    "                     ('tfidf', TfidfTransformer()),\n",
    "                     ('clf', SGDClassifier(loss='hinge', penalty='l2',\n",
    "                                           alpha=1e-3, max_iter=50, tol=1e-3,\n",
    "                                           random_state=42,)),\n",
    "])\n",
    "\n",
    "# Train the classifier and predict\n",
    "text_clf.fit(train_data, train_targets)  \n",
    "predicted = text_clf.predict(test_data)\n",
    "\n",
    "# Evaluate the performance\n",
    "print(accuracy_score(test_targets, predicted))\n",
    "print(confusion_matrix(test_targets, predicted))\n",
    "print(classification_report(test_targets, predicted))"
   ]
  },
  {
   "cell_type": "code",
   "execution_count": 18,
   "metadata": {},
   "outputs": [
    {
     "name": "stdout",
     "output_type": "stream",
     "text": [
      "0.805\n",
      "[[152  38]\n",
      " [ 40 170]]\n",
      "              precision    recall  f1-score   support\n",
      "\n",
      "           0       0.79      0.80      0.80       190\n",
      "           1       0.82      0.81      0.81       210\n",
      "\n",
      "    accuracy                           0.81       400\n",
      "   macro avg       0.80      0.80      0.80       400\n",
      "weighted avg       0.81      0.81      0.81       400\n",
      "\n",
      "clf__alpha: 0.001\n",
      "clf__penalty: l2\n",
      "tfidf__use_idf: False\n",
      "vect__ngram_range: (1, 1)\n"
     ]
    }
   ],
   "source": [
    "#### grid search cv\n",
    "\n",
    "from sklearn.model_selection import GridSearchCV\n",
    "\n",
    "parameters = {'vect__ngram_range': [(1, 1), (1, 2)],\n",
    "              'tfidf__use_idf': (True, False),\n",
    "              'clf__alpha': (1e-2, 1e-3),\n",
    "              'clf__penalty': ('l1', 'l2')}\n",
    "\n",
    "# apply a GridSearchCV on the pipeline\n",
    "gs_clf = GridSearchCV(text_clf, parameters)\n",
    "gs_clf = gs_clf.fit(train_data, train_targets)\n",
    "\n",
    "predicted = gs_clf.predict(test_data)\n",
    "\n",
    "# Evaluate the performance\n",
    "print(accuracy_score(test_targets, predicted))\n",
    "print(confusion_matrix(test_targets, predicted))\n",
    "print(classification_report(test_targets, predicted))\n",
    "\n",
    "for param_name in sorted(parameters.keys()):\n",
    "    print(\"{}: {}\".format(param_name, gs_clf.best_params_[param_name]))"
   ]
  },
  {
   "cell_type": "code",
   "execution_count": null,
   "metadata": {},
   "outputs": [],
   "source": []
  }
 ],
 "metadata": {
  "kernelspec": {
   "display_name": "Python 3",
   "language": "python",
   "name": "python3"
  },
  "language_info": {
   "codemirror_mode": {
    "name": "ipython",
    "version": 3
   },
   "file_extension": ".py",
   "mimetype": "text/x-python",
   "name": "python",
   "nbconvert_exporter": "python",
   "pygments_lexer": "ipython3",
   "version": "3.6.2"
  }
 },
 "nbformat": 4,
 "nbformat_minor": 2
}
